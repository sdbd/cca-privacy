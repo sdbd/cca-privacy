{
 "cells": [
  {
   "cell_type": "markdown",
   "metadata": {},
   "source": [
    "# Analysis of number of connections per certificate per day"
   ]
  },
  {
   "cell_type": "code",
   "execution_count": 1,
   "metadata": {
    "collapsed": true
   },
   "outputs": [],
   "source": [
    "import numpy as np\n",
    "import matplotlib.pyplot as plt\n",
    "from matplotlib.ticker import FormatStrFormatter\n",
    "import math\n",
    "%matplotlib inline"
   ]
  },
  {
   "cell_type": "code",
   "execution_count": 2,
   "metadata": {},
   "outputs": [
    {
     "name": "stdout",
     "output_type": "stream",
     "text": [
      "[  1.   1.   1. ...,  18.  18.  18.] [  1.   1.   1. ...,  18.  18.  18.] [  1.   1.   1. ...,  18.  18.  18.]\n"
     ]
    }
   ],
   "source": [
    "no_v_rtts = np.loadtxt(\"1_connections_per_certificate_per_day.sh.csv.countonly\", delimiter=\",\")\n",
    "no_v_rtts_sort = np.sort(no_v_rtts)\n",
    "\n",
    "ios = np.loadtxt(\"1_connections_per_certificate_per_day_ios.sh.csv.countonly\", delimiter=\",\")\n",
    "ios_sort = np.sort(ios)\n",
    "\n",
    "macos = np.loadtxt(\"1_connections_per_certificate_per_day_macos.sh.csv.countonly\", delimiter=\",\")\n",
    "macos_sort = np.sort(macos)\n",
    "\n",
    "print(no_v_rtts_sort,ios_sort,macos_sort)"
   ]
  },
  {
   "cell_type": "markdown",
   "metadata": {},
   "source": [
    "## Plot definitions"
   ]
  },
  {
   "cell_type": "code",
   "execution_count": 3,
   "metadata": {
    "collapsed": true
   },
   "outputs": [],
   "source": [
    "ylabel = \"% of certificates seen on $\\leq$ n days\"\n",
    "xlabel = \"# of days\"\n",
    "xmin = 0\n",
    "ymin = 0\n",
    "path = \"./\""
   ]
  },
  {
   "cell_type": "markdown",
   "metadata": {},
   "source": [
    "## CDF: No verification RTT"
   ]
  },
  {
   "cell_type": "code",
   "execution_count": 4,
   "metadata": {},
   "outputs": [
    {
     "name": "stdout",
     "output_type": "stream",
     "text": [
      "56128\n",
      "1 18802 0.6650156784492589\n",
      "2 27330 0.513077251995439\n",
      "3 32284 0.42481470923603193\n",
      "4 36082 0.3571479475484607\n",
      "5 39030 0.30462514253135686\n"
     ]
    }
   ],
   "source": [
    "print(len(no_v_rtts_sort))\n",
    "j=1\n",
    "for i in range(0,len(no_v_rtts_sort)):\n",
    "    if no_v_rtts_sort[i] > j:\n",
    "        print(j,i,1-i/len(no_v_rtts_sort))\n",
    "        j=j+1\n",
    "        if(j>5):\n",
    "            break"
   ]
  },
  {
   "cell_type": "code",
   "execution_count": 5,
   "metadata": {},
   "outputs": [
    {
     "name": "stdout",
     "output_type": "stream",
     "text": [
      "15815\n",
      "1 4807 0.6960480556433766\n",
      "2 7028 0.5556117609864053\n",
      "3 8435 0.46664558963009806\n",
      "4 9502 0.3991779955738223\n",
      "5 10383 0.34347138792285803\n"
     ]
    }
   ],
   "source": [
    "print(len(macos_sort))\n",
    "j=1\n",
    "for i in range(0,len(macos_sort)):\n",
    "    if macos_sort[i] > j:\n",
    "        print(j,i,1-i/len(macos_sort))\n",
    "        j=j+1\n",
    "        if(j>5):\n",
    "            break"
   ]
  },
  {
   "cell_type": "code",
   "execution_count": 6,
   "metadata": {},
   "outputs": [
    {
     "name": "stdout",
     "output_type": "stream",
     "text": [
      "40313\n",
      "1 13995 0.6528415151439982\n",
      "2 20302 0.4963907424404038\n",
      "3 23849 0.4084042368466748\n",
      "4 26580 0.34065934065934067\n",
      "5 28647 0.2893855580085828\n"
     ]
    }
   ],
   "source": [
    "print(len(ios_sort))\n",
    "j=1\n",
    "for i in range(0,len(ios_sort)):\n",
    "    if ios_sort[i] > j:\n",
    "        print(j,i,1-i/len(ios_sort))\n",
    "        j=j+1\n",
    "        if(j>5):\n",
    "            break"
   ]
  },
  {
   "cell_type": "code",
   "execution_count": 8,
   "metadata": {},
   "outputs": [
    {
     "data": {
      "image/png": "[encoded data removed]",
      "text/plain": [
       "<matplotlib.figure.Figure at 0x10d907a90>"
      ]
     },
     "metadata": {},
     "output_type": "display_data"
    }
   ],
   "source": [
    "# TODO: Use these colors for lines\n",
    "TUMDarkerBlue=\"#004b87\"\n",
    "TUMLighterBlue=\"#92c1e9\"\n",
    "TUMBlue=\"#005eb8\"\n",
    "TUMOrange=\"##e87722\"\n",
    "\n",
    "# CDF:\n",
    "yvals_ios= np.arange(len(ios_sort))/float(len(ios_sort))*100\n",
    "# CCDF:\n",
    "#yvals = (float(len(no_v_rtts_sort))-np.arange(len(no_v_rtts_sort)))/float(len(no_v_rtts_sort))*100\n",
    "plt.plot(ios_sort, yvals_ios, label=\"iOS APNs Certificates\",color=TUMDarkerBlue,linestyle=\"-\")\n",
    "\n",
    "# CDF:\n",
    "yvals= np.arange(len(no_v_rtts_sort))/float(len(no_v_rtts_sort))*100\n",
    "# CCDF:\n",
    "#yvals = (float(len(no_v_rtts_sort))-np.arange(len(no_v_rtts_sort)))/float(len(no_v_rtts_sort))*100\n",
    "plt.plot(no_v_rtts_sort, yvals, label=\"All APNs Certificates\",color=TUMLighterBlue)\n",
    "\n",
    "# CDF:\n",
    "yvals_macos= np.arange(len(macos_sort))/float(len(macos_sort))*100\n",
    "# CCDF:\n",
    "#yvals = (float(len(no_v_rtts_sort))-np.arange(len(no_v_rtts_sort)))/float(len(no_v_rtts_sort))*100\n",
    "plt.plot(macos_sort, yvals_macos, label=\"Desktop APNs Certificates\",color=TUMBlue,linestyle=\":\")\n",
    "\n",
    "\n",
    "\n",
    "plt.gca().yaxis.set_major_formatter(FormatStrFormatter('%d %%'))\n",
    "#plt.xscale(\"log\")\n",
    "plt.ylabel(ylabel)\n",
    "plt.xlabel(xlabel)\n",
    "plt.legend(loc='lower right',prop={'size':11})\n",
    "idx=28158 # value for 17 days\n",
    "#plt.axvline(no_v_rtts_sort[idx], ymax=idx/len(no_v_rtts_sort), linestyle='--', color='k') # vertical lines\n",
    "#plt.gcf().subplots_adjust(bottom=0.125,right=0.97,left=0.1,top=0.97)\n",
    "plt.savefig('connspercert_per_day.pdf', format='pdf', dpi=2000)    \n",
    "plt.show()"
   ]
  },
  {
   "cell_type": "code",
   "execution_count": 9,
   "metadata": {},
   "outputs": [
    {
     "name": "stdout",
     "output_type": "stream",
     "text": [
      "PDFCROP 1.38, 2012/11/02 - Copyright (c) 2002-2012 by Heiko Oberdiek.\n",
      "==> 1 page written on `connspercert_per_day-crop.pdf'.\n"
     ]
    }
   ],
   "source": [
    "%%bash\n",
    "pdfcrop connspercert_per_day.pdf\n",
    "rm connspercert_per_day.pdf"
   ]
  },
  {
   "cell_type": "code",
   "execution_count": null,
   "metadata": {
    "collapsed": true
   },
   "outputs": [],
   "source": []
  }
 ],
 "metadata": {
  "kernelspec": {
   "display_name": "Python 3",
   "language": "python",
   "name": "python3"
  },
  "language_info": {
   "codemirror_mode": {
    "name": "ipython",
    "version": 3
   },
   "file_extension": ".py",
   "mimetype": "text/x-python",
   "name": "python",
   "nbconvert_exporter": "python",
   "pygments_lexer": "ipython3",
   "version": "3.6.0"
  }
 },
 "nbformat": 4,
 "nbformat_minor": 1
}
