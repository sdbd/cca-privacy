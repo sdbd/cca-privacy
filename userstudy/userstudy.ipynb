{
 "cells": [
  {
   "cell_type": "markdown",
   "metadata": {},
   "source": [
    "# Exemplary study of tracking an individual user  \n",
    "## (who has given informed consent)"
   ]
  },
  {
   "cell_type": "markdown",
   "metadata": {},
   "source": [
    "## Load modules"
   ]
  },
  {
   "cell_type": "code",
   "execution_count": 1,
   "metadata": {
    "scrolled": true
   },
   "outputs": [
    {
     "name": "stdout",
     "output_type": "stream",
     "text": [
      "Numpy version: 1.12.1\n",
      "Python version: 3.6.1 (default, Apr  4 2017, 09:40:51) \n",
      "[GCC 4.2.1 Compatible Apple LLVM 8.0.0 (clang-800.0.42.1)]\n"
     ]
    }
   ],
   "source": [
    "import numpy as np\n",
    "import matplotlib.pyplot as plt\n",
    "import matplotlib.patches as patches\n",
    "from matplotlib.ticker import FormatStrFormatter\n",
    "import math\n",
    "import sys\n",
    "import os.path\n",
    "print(\"Numpy version: {}\".format(np.__version__))\n",
    "print(\"Python version: {}\".format(sys.version))\n",
    "%matplotlib inline"
   ]
  },
  {
   "cell_type": "markdown",
   "metadata": {},
   "source": [
    "## Anonymize files\n",
    "\n",
    "This cell can only be run with access to the sensitive raw data (which a reproducer typically would not have).\n",
    "It is included for a proper documentation of the anonymization process itself.\n",
    "\n",
    "The anonymization in this case adds a random offset to the first column in the CSV (day of year)."
   ]
  },
  {
   "cell_type": "code",
   "execution_count": 2,
   "metadata": {
    "scrolled": true
   },
   "outputs": [
    {
     "name": "stdout",
     "output_type": "stream",
     "text": [
      "user.csv.desk.ts: OK\n",
      "user.csv.vpn.ts: OK\n",
      "user.csv.wifi.ts: OK\n"
     ]
    }
   ],
   "source": [
    "%%bash\n",
    "sha512sum -c raw.ts.sha512 # check that raw files have correct sha sums\n",
    "./user_anon_timestamps.sh # anaonymize raw files "
   ]
  },
  {
   "cell_type": "markdown",
   "metadata": {},
   "source": [
    "## Load and Plot Data"
   ]
  },
  {
   "cell_type": "code",
   "execution_count": 8,
   "metadata": {},
   "outputs": [
    {
     "name": "stdout",
     "output_type": "stream",
     "text": [
      "[  9.31666667  10.16666667  19.58333333  20.08333333  10.26666667  18.5\n",
      "  18.5         11.5         11.51666667  10.91666667  10.91666667\n",
      "  12.43333333  13.05         9.85         9.85         9.86666667\n",
      "  13.78333333  13.78333333  15.01666667  16.8         17.33333333  17.35\n",
      "  10.45        10.53333333  10.55      ]\n",
      "[ -0.22   0.78   0.78   0.78   4.78   4.78   4.78   5.78   5.78   6.78\n",
      "   6.78   6.78   6.78   7.78   7.78   7.78   7.78   7.78   7.78   7.78\n",
      "   7.78   7.78  12.78  12.78  12.78]\n"
     ]
    }
   ],
   "source": [
    "daytime = np.loadtxt(\"user.csv.ts.daytime.anon\", delimiter=\",\")\n",
    "daytime\n",
    "day = daytime[:,0] - min(daytime[:,0]) - 0.22  # make day of year relative by subtracting minimum, with an offset for plotting\n",
    "time = daytime[:,1] + (daytime[:,2] / float(60))\n",
    "print(time)\n",
    "print(day)"
   ]
  },
  {
   "cell_type": "code",
   "execution_count": 9,
   "metadata": {},
   "outputs": [
    {
     "name": "stdout",
     "output_type": "stream",
     "text": [
      "[  9.31666667  10.16666667  19.58333333  20.08333333  18.5         18.5\n",
      "  11.5         11.51666667  12.43333333  13.05         9.85         9.86666667\n",
      "  17.33333333  17.35        10.53333333  10.55      ]\n",
      "[ -0.22   0.78   0.78   0.78   4.78   4.78   5.78   5.78   6.78   6.78\n",
      "   7.78   7.78   7.78   7.78  12.78  12.78]\n"
     ]
    }
   ],
   "source": [
    "daytimed = np.loadtxt(\"user.csv.desk.ts.anon\", delimiter=\",\")\n",
    "deskday = daytimed[:,0] - min(daytime[:,0]) - 0.22\n",
    "desktime = daytimed[:,1]+ daytimed[:,2]/float(60)\n",
    "print(desktime)\n",
    "print(deskday)"
   ]
  },
  {
   "cell_type": "code",
   "execution_count": 10,
   "metadata": {},
   "outputs": [
    {
     "name": "stdout",
     "output_type": "stream",
     "text": [
      "[  1.38250000e+04   1.00000000e+01   1.60000000e+01]\n",
      "5.0\n",
      "10.2666666667\n"
     ]
    }
   ],
   "source": [
    "daytimev = np.loadtxt(\"user.csv.vpn.ts.anon\", delimiter=\",\")\n",
    "print(daytimev)\n",
    "vpnday = daytimev[0] - min(daytime[:,0])\n",
    "vpntime = daytimev[1]+ daytimev[2]/float(60)\n",
    "print(vpnday)\n",
    "print(vpntime)"
   ]
  },
  {
   "cell_type": "code",
   "execution_count": 11,
   "metadata": {},
   "outputs": [
    {
     "name": "stdout",
     "output_type": "stream",
     "text": [
      "[  7.22   7.22   8.22   8.22   8.22   8.22   8.22  13.22]\n",
      "[ 10.91666667  10.91666667   9.85        13.78333333  13.78333333\n",
      "  15.01666667  16.8         10.45      ]\n"
     ]
    }
   ],
   "source": [
    "daytimew = np.loadtxt(\"user.csv.wifi.ts.anon\", delimiter=\",\")\n",
    "wifiday = daytimew[:,0] - min(daytime[:,0]) + 0.22\n",
    "wifitime = daytimew[:,1]+ daytimew[:,2]/float(60)\n",
    "print(wifiday)\n",
    "print(wifitime)"
   ]
  },
  {
   "cell_type": "code",
   "execution_count": 12,
   "metadata": {},
   "outputs": [
    {
     "data": {
      "image/png": "[encoded data removed]",
      "text/plain": [
       "<matplotlib.figure.Figure at 0x10bffb7f0>"
      ]
     },
     "metadata": {},
     "output_type": "display_data"
    }
   ],
   "source": [
    "TUMDarkerBlue=\"#004b87\"\n",
    "TUMLighterBlue=\"#92c1e9\"\n",
    "TUMBlue=\"#005eb8\"\n",
    "TUMOrange=\"##e87722\"\n",
    "\n",
    "ylabel = \"Time of day\"\n",
    "xlabel = \"Day and connection type of APNs login\"\n",
    "\n",
    "plt.plot(deskday, desktime, 'v',markersize=10,label=\"Desk\",color=TUMDarkerBlue)\n",
    "plt.plot(vpnday, vpntime, '^',markersize=10,label=\"VPN\",color=TUMLighterBlue)\n",
    "plt.plot(wifiday, wifitime, 'bs',markersize=10,label=\"WLAN\",color=TUMBlue)\n",
    "labels=[\"Wed\", \"Thu\", \"Fri\", \"Sat\", \"Sun\", \"Mon\", \"Tue\", \"Wed\", \"Thu\",\"Fri\", \"Sat\", \"Sun\",\"Mon\",\"Tue\"]\n",
    "plt.legend(loc=\"upper right\")\n",
    "plt.xticks(range(0,15),labels, rotation='vertical')\n",
    "ax=plt.gca();\n",
    "ax.set_xlim(xmin=-0.5);\n",
    "plt.ylabel(ylabel)\n",
    "plt.xlabel(xlabel)\n",
    "for i in range(0,len(labels)):\n",
    "    if (labels[i] != \"Sat\") and (labels[i] != \"Sun\") :\n",
    "        plt.axvline(i, ymax=1, linewidth=20, alpha=0.05, color='k') # vertical lines  \n",
    "    if (labels[i] == \"Sat\") or (labels[i] == \"Sun\"):\n",
    "        plt.axvline(i, ymax=1, linewidth=20, alpha=0.25, linestyle='-', color='k') # vertical lines          \n",
    "plt.gcf().subplots_adjust(bottom=0.15,right=0.97,left=0.1,top=0.97)\n",
    "#plt.savefig('userstudy.pdf', format='pdf', dpi=2000)    \n",
    "plt.show()"
   ]
  },
  {
   "cell_type": "code",
   "execution_count": null,
   "metadata": {
    "collapsed": true
   },
   "outputs": [],
   "source": []
  }
 ],
 "metadata": {
  "kernelspec": {
   "display_name": "Python 3",
   "language": "python",
   "name": "python3"
  },
  "language_info": {
   "codemirror_mode": {
    "name": "ipython",
    "version": 3
   },
   "file_extension": ".py",
   "mimetype": "text/x-python",
   "name": "python",
   "nbconvert_exporter": "python",
   "pygments_lexer": "ipython3",
   "version": "3.6.1"
  }
 },
 "nbformat": 4,
 "nbformat_minor": 1
}
